{
 "cells": [
  {
   "cell_type": "markdown",
   "id": "a16c1f9b",
   "metadata": {},
   "source": [
    "# CFA for Teacher Dashboard\n",
    "\n",
    "In this Jupyter Notebook, the standards from Illuminate for CFAs are uploaded and then the data is manipulated to produce a single sheet with all of the standards in columns for all of the various tests that are given. The sheet that is produced can then be used for a vlookup to put the values into the proper columns for the teacher data sheets."
   ]
  },
  {
   "cell_type": "code",
   "execution_count": null,
   "id": "5d96b59a",
   "metadata": {},
   "outputs": [],
   "source": [
    "import numpy as np\n",
    "import pandas as pd"
   ]
  },
  {
   "cell_type": "code",
   "execution_count": null,
   "id": "94d3ada2",
   "metadata": {},
   "outputs": [],
   "source": [
    "# Uploading the standards sheets\n",
    "ela = pd.read_excel(r\"C:\\Users\\derek.castleman\\Desktop\\CFA Data\\CFA Data 23-24\\CFA 2\\elastandards.xls\")\n",
    "math = pd.read_excel(r\"C:\\Users\\derek.castleman\\Desktop\\CFA Data\\CFA Data 23-24\\CFA 2\\Math Standards.xls\")\n",
    "#science = pd.read_excel(r\"C:\\Users\\derek.castleman\\Desktop\\CFA Data\\CFA Data 23-24\\CFA 1\\Science Standards.xls\")\n",
    "eld = pd.read_excel(r\"C:\\Users\\derek.castleman\\Desktop\\CFA Data\\CFA Data 23-24\\CFA 2\\eld standards.xls\")"
   ]
  },
  {
   "cell_type": "code",
   "execution_count": null,
   "id": "2371bff9",
   "metadata": {},
   "outputs": [],
   "source": [
    "ela"
   ]
  },
  {
   "cell_type": "code",
   "execution_count": null,
   "id": "1a8dc478",
   "metadata": {},
   "outputs": [],
   "source": [
    "# Dropping the extra columns and leaving only student ID and the standards\n",
    "ela_standards = ela.drop(ela.columns[[0, 2, 3, 4, 5, 6, 7, 8, 9, 10, 11, 12, 13, 14]],axis = 1)\n",
    "ela_standards"
   ]
  },
  {
   "cell_type": "code",
   "execution_count": null,
   "id": "f0a1131a",
   "metadata": {},
   "outputs": [],
   "source": [
    "# Eliminating the excess words from the standards columns and dropping the extra columns\n",
    "ela_data = ela_standards\n",
    "ela_data = ela_data.rename(columns=lambda x: x.split('Literacy.')[-1])\n",
    "ela_data = ela_data.rename(columns=lambda x: x.split('Performance Band Level')[0])\n",
    "ela_data = ela_data.loc[:,~ela_data.columns.str.contains('Subject') ]\n",
    "ela_data = ela_data.loc[:,~ela_data.columns.str.contains('Scope') ]\n",
    "ela_data = ela_data.loc[:,~ela_data.columns.str.contains('Title') ]\n",
    "ela_data = ela_data.loc[:,~ela_data.columns.str.contains('Description') ]\n",
    "ela_data = ela_data.loc[:,~ela_data.columns.str.contains('Date') ]\n",
    "ela_data = ela_data.loc[:,~ela_data.columns.str.contains('Time') ]\n",
    "ela_data = ela_data.loc[:,~ela_data.columns.str.contains('Mastered') ]\n",
    "ela_data = ela_data.loc[:,~ela_data.columns.str.contains('Questions')]\n",
    "ela_data = ela_data.loc[:,~ela_data.columns.str.contains('Minutes')]\n",
    "ela_data = ela_data.loc[:,~ela_data.columns.str.contains('State Student ID')]\n",
    "ela_standards = ela_data.loc[:,~ela_data.columns.str.contains('Author') ]\n",
    "ela_standards = ela_standards.loc[:,~ela_standards.columns.str.contains('Points') ]\n",
    "ela_standards = ela_standards.loc[:,~ela_standards.columns.str.contains('Percent') ]\n",
    "ela_standards = ela_standards.loc[:,~ela_standards.columns.str.contains('Middle Name') ]\n",
    "ela_standards = ela_standards.loc[:,~ela_standards.columns.str.contains('Label') ]\n",
    "ela = ela_standards.loc[:,~ela_standards.columns.str.contains('Performance Band') ]\n",
    "ela"
   ]
  },
  {
   "cell_type": "code",
   "execution_count": null,
   "id": "fc6ea84b",
   "metadata": {},
   "outputs": [],
   "source": [
    "math"
   ]
  },
  {
   "cell_type": "code",
   "execution_count": null,
   "id": "0efc3fe5",
   "metadata": {},
   "outputs": [],
   "source": [
    "# Leaving just student ID and the standards columns\n",
    "math_standards = math.drop(math.columns[[0, 2, 3, 4, 5, 6, 7, 8, 9, 10, 11, 12, 13, 14]],axis = 1)\n",
    "math_standards"
   ]
  },
  {
   "cell_type": "code",
   "execution_count": null,
   "id": "b9359a35",
   "metadata": {},
   "outputs": [],
   "source": [
    "# Eliminating the excess wording on standards as well as unneeded columns\n",
    "ela_data = math_standards\n",
    "ela_data = ela_data.rename(columns=lambda x: x.split('Content.')[-1])\n",
    "ela_data = ela_data.rename(columns=lambda x: x.split('23-24 ')[-1])\n",
    "ela_data = ela_data.rename(columns=lambda x: x.split('Performance Band Level')[0])\n",
    "ela_data = ela_data.loc[:,~ela_data.columns.str.contains('Subject') ]\n",
    "ela_data = ela_data.loc[:,~ela_data.columns.str.contains('Scope') ]\n",
    "ela_data = ela_data.loc[:,~ela_data.columns.str.contains('Title') ]\n",
    "ela_data = ela_data.loc[:,~ela_data.columns.str.contains('Description') ]\n",
    "ela_data = ela_data.loc[:,~ela_data.columns.str.contains('Date') ]\n",
    "ela_data = ela_data.loc[:,~ela_data.columns.str.contains('Time') ]\n",
    "ela_data = ela_data.loc[:,~ela_data.columns.str.contains('Mastered') ]\n",
    "ela_data = ela_data.loc[:,~ela_data.columns.str.contains('Questions')]\n",
    "ela_data = ela_data.loc[:,~ela_data.columns.str.contains('Minutes')]\n",
    "ela_data = ela_data.loc[:,~ela_data.columns.str.contains('State Student ID')]\n",
    "ela_standards = ela_data.loc[:,~ela_data.columns.str.contains('Author') ]\n",
    "ela_standards = ela_standards.loc[:,~ela_standards.columns.str.contains('Points') ]\n",
    "ela_standards = ela_standards.loc[:,~ela_standards.columns.str.contains('Percent') ]\n",
    "ela_standards = ela_standards.loc[:,~ela_standards.columns.str.contains('Middle Name') ]\n",
    "ela_standards = ela_standards.loc[:,~ela_standards.columns.str.contains('Label') ]\n",
    "math = ela_standards.loc[:,~ela_standards.columns.str.contains('Performance Band') ]\n",
    "math"
   ]
  },
  {
   "cell_type": "code",
   "execution_count": null,
   "id": "6fea434f",
   "metadata": {},
   "outputs": [],
   "source": [
    "#science"
   ]
  },
  {
   "cell_type": "code",
   "execution_count": null,
   "id": "d87e2660",
   "metadata": {},
   "outputs": [],
   "source": [
    "# Leaving just student ID and standards columns\n",
    "#science_standards = science.drop(science.columns[[0, 2, 3, 4, 5, 6, 7, 8, 9, 10, 11, 12, 13, 14]],axis = 1)\n",
    "#science_standards"
   ]
  },
  {
   "cell_type": "code",
   "execution_count": null,
   "id": "abfafdbf",
   "metadata": {},
   "outputs": [],
   "source": [
    "# Getting rid of excess wording and columns\n",
    "#ela_data = science_standards\n",
    "#ela_data = ela_data.rename(columns=lambda x: x.split('Content.')[-1])\n",
    "#ela_data = ela_data.rename(columns=lambda x: x.split('23-24 ')[-1])\n",
    "#ela_data = ela_data.rename(columns=lambda x: x.split('23-34 ')[-1])\n",
    "#ela_data = ela_data.rename(columns=lambda x: x.split('Performance Band Level')[0])\n",
    "#ela_data = ela_data.loc[:,~ela_data.columns.str.contains('Subject') ]\n",
    "#ela_data = ela_data.loc[:,~ela_data.columns.str.contains('Scope') ]\n",
    "#ela_data = ela_data.loc[:,~ela_data.columns.str.contains('Title') ]\n",
    "#ela_data = ela_data.loc[:,~ela_data.columns.str.contains('Description') ]\n",
    "#ela_data = ela_data.loc[:,~ela_data.columns.str.contains('Date') ]\n",
    "#ela_data = ela_data.loc[:,~ela_data.columns.str.contains('Time') ]\n",
    "#ela_data = ela_data.loc[:,~ela_data.columns.str.contains('Mastered') ]\n",
    "#ela_data = ela_data.loc[:,~ela_data.columns.str.contains('Questions')]\n",
    "#ela_data = ela_data.loc[:,~ela_data.columns.str.contains('State Student ID')]\n",
    "#ela_data = ela_data.loc[:,~ela_data.columns.str.contains('Minutes')]\n",
    "#ela_standards = ela_data.loc[:,~ela_data.columns.str.contains('Author') ]\n",
    "#ela_standards = ela_standards.loc[:,~ela_standards.columns.str.contains('Points') ]\n",
    "#ela_standards = ela_standards.loc[:,~ela_standards.columns.str.contains('Percent') ]\n",
    "#ela_standards = ela_standards.loc[:,~ela_standards.columns.str.contains('Middle Name') ]\n",
    "#ela_standards = ela_standards.loc[:,~ela_standards.columns.str.contains('Label') ]\n",
    "#science = ela_standards.loc[:,~ela_standards.columns.str.contains('Performance Band') ]\n",
    "#science"
   ]
  },
  {
   "cell_type": "code",
   "execution_count": null,
   "id": "1dd31cbb",
   "metadata": {},
   "outputs": [],
   "source": [
    "eld"
   ]
  },
  {
   "cell_type": "code",
   "execution_count": null,
   "id": "0e76c5f4",
   "metadata": {},
   "outputs": [],
   "source": [
    "# Leaving just student ID and standards columns\n",
    "eld_standards = eld.drop(eld.columns[[0, 2, 3, 4, 5, 6, 7, 8, 9, 10, 11, 12, 13, 14]],axis = 1)\n",
    "eld_standards"
   ]
  },
  {
   "cell_type": "code",
   "execution_count": null,
   "id": "be41a172",
   "metadata": {},
   "outputs": [],
   "source": [
    "# Dropping excess wording and columns\n",
    "ela_data = eld_standards\n",
    "ela_data = ela_data.rename(columns=lambda x: x.split('Literacy.')[-1])\n",
    "ela_data = ela_data.rename(columns=lambda x: x.split('23-24 ')[-1])\n",
    "ela_data = ela_data.rename(columns=lambda x: x.split('23-34 ')[-1])\n",
    "ela_data = ela_data.rename(columns=lambda x: x.split('Performance Band Level')[0])\n",
    "ela_data = ela_data.loc[:,~ela_data.columns.str.contains('Subject') ]\n",
    "ela_data = ela_data.loc[:,~ela_data.columns.str.contains('Scope') ]\n",
    "ela_data = ela_data.loc[:,~ela_data.columns.str.contains('Title') ]\n",
    "ela_data = ela_data.loc[:,~ela_data.columns.str.contains('Description') ]\n",
    "ela_data = ela_data.loc[:,~ela_data.columns.str.contains('Date') ]\n",
    "ela_data = ela_data.loc[:,~ela_data.columns.str.contains('Time') ]\n",
    "ela_data = ela_data.loc[:,~ela_data.columns.str.contains('Mastered') ]\n",
    "ela_data = ela_data.loc[:,~ela_data.columns.str.contains('Questions')]\n",
    "ela_data = ela_data.loc[:,~ela_data.columns.str.contains('State Student ID')]\n",
    "ela_data = ela_data.loc[:,~ela_data.columns.str.contains('Minutes')]\n",
    "ela_standards = ela_data.loc[:,~ela_data.columns.str.contains('Author') ]\n",
    "ela_standards = ela_standards.loc[:,~ela_standards.columns.str.contains('Points') ]\n",
    "ela_standards = ela_standards.loc[:,~ela_standards.columns.str.contains('Percent') ]\n",
    "ela_standards = ela_standards.loc[:,~ela_standards.columns.str.contains('Middle Name') ]\n",
    "ela_standards = ela_standards.loc[:,~ela_standards.columns.str.contains('Label') ]\n",
    "eld = ela_standards.loc[:,~ela_standards.columns.str.contains('Performance Band') ]\n",
    "eld"
   ]
  },
  {
   "cell_type": "code",
   "execution_count": null,
   "id": "831819fc",
   "metadata": {},
   "outputs": [],
   "source": [
    "# Merging ela and math standards\n",
    "merge_one = pd.merge(ela, math, how='outer', on='Student ID')\n",
    "merge_one"
   ]
  },
  {
   "cell_type": "code",
   "execution_count": null,
   "id": "a33193e2",
   "metadata": {},
   "outputs": [],
   "source": [
    "# Merging with science\n",
    "#merge_two = pd.merge(merge_one, science, how='outer', on='Student ID')\n",
    "#merge_two"
   ]
  },
  {
   "cell_type": "code",
   "execution_count": null,
   "id": "6c155e1c",
   "metadata": {},
   "outputs": [],
   "source": [
    "# Merging with eld\n",
    "merge_three = pd.merge(merge_one, eld, how='outer', on='Student ID')\n",
    "merge_three"
   ]
  },
  {
   "cell_type": "code",
   "execution_count": null,
   "id": "a6b68b17",
   "metadata": {},
   "outputs": [],
   "source": [
    "# Selecting just standards\n",
    "df1 = merge_three.iloc[:,1:]\n",
    "df1"
   ]
  },
  {
   "cell_type": "code",
   "execution_count": null,
   "id": "0e0d71e6",
   "metadata": {},
   "outputs": [],
   "source": [
    "# Selecting just student IDs\n",
    "df2 = merge_three.iloc[:,:1]\n",
    "df2"
   ]
  },
  {
   "cell_type": "code",
   "execution_count": null,
   "id": "d8c023d5",
   "metadata": {},
   "outputs": [],
   "source": [
    "# Changing any value below 3 to a 0\n",
    "df1 = df1.mask(df1 < 3, 0)\n",
    "df1"
   ]
  },
  {
   "cell_type": "code",
   "execution_count": null,
   "id": "16fc6cd4",
   "metadata": {},
   "outputs": [],
   "source": [
    "# Changing any value 3 and above to a 1\n",
    "df1 = df1.mask(df1 >= 3, 1)\n",
    "df1"
   ]
  },
  {
   "cell_type": "code",
   "execution_count": null,
   "id": "e83d1f6a",
   "metadata": {},
   "outputs": [],
   "source": [
    "# Rejoing student IDs with the standards\n",
    "back_again = df2.join(df1)\n",
    "back_again"
   ]
  },
  {
   "cell_type": "code",
   "execution_count": null,
   "id": "b89e7a3b",
   "metadata": {},
   "outputs": [],
   "source": [
    "import base64\n",
    "from IPython.display import HTML\n",
    "\n",
    "def create_download_link( df, title = \"CFA Standards Dashboard\", filename = \"CFA Standards Dashboard\"):\n",
    "    csv = df.to_csv(index=False)\n",
    "    b64 = base64.b64encode(csv.encode())\n",
    "    payload = b64.decode()\n",
    "    html = '<a download=\"{filename}\" href=\"data:text/csv;base64,{payload}\" target=\"_blank\">{title}</a>'\n",
    "    html = html.format(payload=payload,title=title,filename=filename)\n",
    "    return HTML(html)\n",
    "\n",
    "create_download_link(back_again)"
   ]
  },
  {
   "cell_type": "code",
   "execution_count": null,
   "id": "8685ecc6",
   "metadata": {},
   "outputs": [],
   "source": []
  }
 ],
 "metadata": {
  "kernelspec": {
   "display_name": "Python 3 (ipykernel)",
   "language": "python",
   "name": "python3"
  },
  "language_info": {
   "codemirror_mode": {
    "name": "ipython",
    "version": 3
   },
   "file_extension": ".py",
   "mimetype": "text/x-python",
   "name": "python",
   "nbconvert_exporter": "python",
   "pygments_lexer": "ipython3",
   "version": "3.9.7"
  }
 },
 "nbformat": 4,
 "nbformat_minor": 5
}
